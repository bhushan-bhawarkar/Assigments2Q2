{
  "nbformat": 4,
  "nbformat_minor": 0,
  "metadata": {
    "colab": {
      "provenance": []
    },
    "kernelspec": {
      "name": "python3",
      "display_name": "Python 3"
    },
    "language_info": {
      "name": "python"
    }
  },
  "cells": [
    {
      "cell_type": "code",
      "source": [
        "def uniqChar(s):\n",
        "\n",
        "    char_count = {}\n",
        "\n",
        "\n",
        "    for char in s:\n",
        "        char_count[char] = char_count.get(char, 0) + 1\n",
        "\n",
        "\n",
        "    for i in range(len(s)):\n",
        "        if char_count[s[i]] == 1:\n",
        "            return i\n",
        "\n",
        "    return -1\n",
        "\n",
        "\n",
        "s = \"leetcode\"\n",
        "print(uniqChar(s))\n",
        "\n",
        "s = \"loveleetcode\"\n",
        "print(uniqChar(s))\n",
        "\n",
        "s = \"aabb\"\n",
        "print(uniqChar(s))\n"
      ],
      "metadata": {
        "colab": {
          "base_uri": "https://localhost:8080/"
        },
        "id": "w7xRejePf-N1",
        "outputId": "a32ca13d-bc2a-4fb0-b585-c07a14ba85f3"
      },
      "execution_count": 3,
      "outputs": [
        {
          "output_type": "stream",
          "name": "stdout",
          "text": [
            "0\n",
            "2\n",
            "-1\n"
          ]
        }
      ]
    },
    {
      "cell_type": "code",
      "source": [],
      "metadata": {
        "id": "sIQltcMDDHMD"
      },
      "execution_count": null,
      "outputs": []
    }
  ]
}